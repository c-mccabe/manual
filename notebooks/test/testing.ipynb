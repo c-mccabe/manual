{
 "cells": [
  {
   "metadata": {
    "ExecuteTime": {
     "end_time": "2025-07-13T18:39:08.824849Z",
     "start_time": "2025-07-13T18:39:08.818056Z"
    }
   },
   "cell_type": "code",
   "source": "from pathlib import Path",
   "id": "53e545dfca18367e",
   "outputs": [],
   "execution_count": 3
  },
  {
   "metadata": {
    "ExecuteTime": {
     "end_time": "2025-07-13T18:39:25.852643Z",
     "start_time": "2025-07-13T18:39:25.695557Z"
    }
   },
   "cell_type": "code",
   "source": "!pwd",
   "id": "183b282707f34117",
   "outputs": [
    {
     "name": "stdout",
     "output_type": "stream",
     "text": [
      "/Users/Conor/src/manual/notebooks\r\n"
     ]
    }
   ],
   "execution_count": 5
  },
  {
   "cell_type": "code",
   "id": "initial_id",
   "metadata": {
    "collapsed": true,
    "ExecuteTime": {
     "end_time": "2025-07-13T18:40:01.752554Z",
     "start_time": "2025-07-13T18:40:01.707948Z"
    }
   },
   "source": [
    "import fitz\n",
    "doc = fitz.open(Path(\"/Users/Conor/src/manual/data/raw_pdfs/HUAWEI Mate40 Pro User Guide-(NOH-NX9,EMUI12.0_01,en-gb).pdf\"))\n",
    "print(doc[0].get_text())\n"
   ],
   "outputs": [
    {
     "name": "stdout",
     "output_type": "stream",
     "text": [
      "User Guide\n",
      "\n"
     ]
    }
   ],
   "execution_count": 6
  },
  {
   "metadata": {},
   "cell_type": "code",
   "outputs": [],
   "execution_count": null,
   "source": "",
   "id": "af4a0f6617eacb48"
  }
 ],
 "metadata": {
  "kernelspec": {
   "display_name": "Python 3",
   "language": "python",
   "name": "python3"
  },
  "language_info": {
   "codemirror_mode": {
    "name": "ipython",
    "version": 2
   },
   "file_extension": ".py",
   "mimetype": "text/x-python",
   "name": "python",
   "nbconvert_exporter": "python",
   "pygments_lexer": "ipython2",
   "version": "2.7.6"
  }
 },
 "nbformat": 4,
 "nbformat_minor": 5
}
